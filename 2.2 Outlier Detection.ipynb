{
  "cells": [
    {
      "metadata": {},
      "cell_type": "markdown",
      "source": "\n# Anomaly / Outlier Detection\n\n\nGiven a set of points in some space, it groups together points that are closely packed together (points with many nearby neighbors), marking points as outliers that lie alone in low-density regions (whose nearest neighbors are too far away). \n\nDBSCAN is one of the most common clustering algorithms and also most cited in scientific literature."
    },
    {
      "metadata": {
        "trusted": true
      },
      "cell_type": "code",
      "source": "import numpy as np\nimport pandas as pd",
      "execution_count": null,
      "outputs": []
    },
    {
      "metadata": {
        "trusted": true
      },
      "cell_type": "code",
      "source": "import matplotlib.pyplot as plt\n%matplotlib inline\nfrom pylab import rcParams\nrcParams['figure.figsize'] = 15, 10",
      "execution_count": null,
      "outputs": []
    },
    {
      "metadata": {
        "trusted": true
      },
      "cell_type": "code",
      "source": "from sklearn.cluster import DBSCAN",
      "execution_count": null,
      "outputs": []
    },
    {
      "metadata": {},
      "cell_type": "markdown",
      "source": "Read data"
    },
    {
      "metadata": {
        "trusted": true
      },
      "cell_type": "code",
      "source": "df_raw = pd.read_csv('./data/PM_train.csv')\ndf_raw.head()",
      "execution_count": null,
      "outputs": []
    },
    {
      "metadata": {},
      "cell_type": "markdown",
      "source": "Select certain columns of raw data"
    },
    {
      "metadata": {
        "trusted": true
      },
      "cell_type": "code",
      "source": "df = df_raw.loc[:, ['s2', 's3']]",
      "execution_count": null,
      "outputs": []
    },
    {
      "metadata": {},
      "cell_type": "markdown",
      "source": "Initiate model and fit it to data"
    },
    {
      "metadata": {
        "trusted": true
      },
      "cell_type": "code",
      "source": "model = DBSCAN(eps=0.8, min_samples=10)",
      "execution_count": null,
      "outputs": []
    },
    {
      "metadata": {},
      "cell_type": "markdown",
      "source": "Fit model to the dataframe"
    },
    {
      "metadata": {
        "trusted": true
      },
      "cell_type": "code",
      "source": "model.fit(df)",
      "execution_count": null,
      "outputs": []
    },
    {
      "metadata": {},
      "cell_type": "markdown",
      "source": "Get the model's labels"
    },
    {
      "metadata": {
        "trusted": true
      },
      "cell_type": "code",
      "source": "labels = model.labels_\nlabels",
      "execution_count": null,
      "outputs": []
    },
    {
      "metadata": {},
      "cell_type": "markdown",
      "source": "Get number of found outliers"
    },
    {
      "metadata": {
        "trusted": true
      },
      "cell_type": "code",
      "source": "n_outliers = (labels == -1).sum()\nn_outliers",
      "execution_count": null,
      "outputs": []
    },
    {
      "metadata": {},
      "cell_type": "markdown",
      "source": "Plot result"
    },
    {
      "metadata": {
        "scrolled": true,
        "trusted": true
      },
      "cell_type": "code",
      "source": "plt.scatter(df['s2'], df['s3'], s=10, c=labels)\n\nplt.title('Number of found outliers: %d' % n_outliers)\nplt.show()",
      "execution_count": null,
      "outputs": []
    },
    {
      "metadata": {},
      "cell_type": "markdown",
      "source": "# Clustering\n\nLet's try again with som toy data"
    },
    {
      "metadata": {
        "trusted": true
      },
      "cell_type": "code",
      "source": "from sklearn import datasets",
      "execution_count": null,
      "outputs": []
    },
    {
      "metadata": {
        "trusted": true
      },
      "cell_type": "code",
      "source": "X_moons, y_moons = datasets.make_moons(n_samples=1000, shuffle=True, noise=0.1, random_state=0)\ndf_moons = pd.DataFrame(X_moons)",
      "execution_count": null,
      "outputs": []
    },
    {
      "metadata": {
        "trusted": true
      },
      "cell_type": "code",
      "source": "plt.scatter(df_moons[0], df_moons[1], c=y_moons)\nplt.show()",
      "execution_count": null,
      "outputs": []
    },
    {
      "metadata": {},
      "cell_type": "markdown",
      "source": "Try to find outliers using `DBSCAN`"
    },
    {
      "metadata": {
        "trusted": true
      },
      "cell_type": "code",
      "source": "model_moons = DBSCAN(eps=0.15, min_samples=10)  # try 0.15\nmodel_moons.fit(df_moons)",
      "execution_count": null,
      "outputs": []
    },
    {
      "metadata": {},
      "cell_type": "markdown",
      "source": "Count equal labels"
    },
    {
      "metadata": {
        "trusted": true
      },
      "cell_type": "code",
      "source": "from collections import Counter\nCounter(model_moons.labels_)",
      "execution_count": null,
      "outputs": []
    },
    {
      "metadata": {
        "trusted": true
      },
      "cell_type": "code",
      "source": "plt.scatter(df_moons[0], df_moons[1], c=model_moons.labels_)\nplt.show()",
      "execution_count": null,
      "outputs": []
    },
    {
      "metadata": {},
      "cell_type": "markdown",
      "source": "Automatically adjust model parameter to find optimal parameter range"
    },
    {
      "metadata": {
        "trusted": true
      },
      "cell_type": "code",
      "source": "tmp = pd.DataFrame(columns=['outliers', 'cluster0', 'cluster1'])\n\nfor i in np.arange(0.01, 0.3, 0.01):\n    model_moons = DBSCAN(eps=i, min_samples=10).fit(df_moons)\n    row = [(model_moons.labels_ == -1).sum(), (model_moons.labels_ == 0).sum(), (model_moons.labels_ == 1).sum()]\n    tmp.loc[i] = row\n\ntmp.plot()",
      "execution_count": null,
      "outputs": []
    },
    {
      "metadata": {},
      "cell_type": "markdown",
      "source": "The quality of found clusters depends heavily on choosen clustering algorithm."
    },
    {
      "metadata": {
        "trusted": true
      },
      "cell_type": "code",
      "source": "from sklearn.cluster import KMeans\n\nmodel_moons = KMeans(n_clusters=2).fit(df_moons)\n\nplt.scatter(df_moons[0], df_moons[1], c=model_moons.labels_)\nplt.show()",
      "execution_count": null,
      "outputs": []
    },
    {
      "metadata": {
        "trusted": true
      },
      "cell_type": "code",
      "source": "",
      "execution_count": null,
      "outputs": []
    }
  ],
  "metadata": {
    "kernelspec": {
      "name": "python3",
      "display_name": "Python 3",
      "language": "python"
    },
    "language_info": {
      "mimetype": "text/x-python",
      "nbconvert_exporter": "python",
      "name": "python",
      "file_extension": ".py",
      "version": "3.5.4",
      "pygments_lexer": "ipython3",
      "codemirror_mode": {
        "version": 3,
        "name": "ipython"
      }
    }
  },
  "nbformat": 4,
  "nbformat_minor": 1
}