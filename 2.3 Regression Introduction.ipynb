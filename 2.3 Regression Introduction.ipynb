{
  "cells": [
    {
      "metadata": {
        "_cell_guid": "9e9ea3c6-49e1-46fd-adc4-08a90612959a",
        "_uuid": "a37e8f8650f70d57df1a68a4a532a266f2d26f80"
      },
      "cell_type": "markdown",
      "source": "# Regression\nIn this section, we will discuss the basics of using a linear model on a diabetes dataset coming from `sklearn` as example."
    },
    {
      "metadata": {
        "_cell_guid": "191de542-7858-41fc-beb6-fa9da15ecf09",
        "_uuid": "96a936cc2f10d452e55b27389c54fde4ad433058"
      },
      "cell_type": "markdown",
      "source": "### Diabetes dataset \n\nTen baseline features, age, sex, body mass index, average blood pressure, and six blood serum measurements were obtained for each of n = 442 diabetes patients, as well as the response of interest, a quantitative measure of disease progression one year after baseline.\n```\n  :Attributes:\n    :Age:\n    :Sex:\n    :Body mass index:\n    :Average blood pressure:\n    :S1:\n    :S2:\n    :S3:\n    :S4:\n    :S5:\n    :S6:\n```"
    },
    {
      "metadata": {},
      "cell_type": "markdown",
      "source": "Most machine learning algorithms implemented in scikit-learn expect data to be stored in a\n**two-dimensional array or matrix**. \nThe size of the array is expected to be `n_samples x n_features`.\n\n- **n_samples:**   The number of samples: each sample is an item to process (e.g. classify).\n  A sample can be a document, a picture, a sound, a video, an astronomical object,\n  a row in database or CSV file,\n  or whatever you can describe with a fixed set of quantitative traits.\n- **n_features:**  The number of features or distinct traits that can be used to describe each\n  item in a quantitative manner.  Features are generally real-valued, but may be boolean or\n  discrete-valued in some cases.<br><br>\n\nThe number of features must be fixed in advance. However it can be very high dimensional\n(e.g. millions of features) with most of them being zeros for a given sample.\n\nIf there are labels or targets, they need to be stored in **one-dimensional arrays or lists**."
    },
    {
      "metadata": {
        "_cell_guid": "c687dbe1-3032-4ea8-b423-0b6111721105",
        "_uuid": "b37b257af878bc8748f2ff114ed5dd2ff4d5bdd9",
        "trusted": true
      },
      "cell_type": "code",
      "source": "import matplotlib.pylab as plt\n%matplotlib inline\nimport numpy as np\nfrom sklearn import datasets",
      "execution_count": null,
      "outputs": []
    },
    {
      "metadata": {
        "_cell_guid": "96e55733-b1ca-40b5-b08f-0c4afa2a48a7",
        "_uuid": "3f417b1a3376868900afefa293e1873e0c0fe258",
        "trusted": true
      },
      "cell_type": "code",
      "source": "dataset = datasets.load_diabetes() # load data",
      "execution_count": null,
      "outputs": []
    },
    {
      "metadata": {
        "_cell_guid": "cee985b6-006a-4a75-aaf5-60daaef4d78d",
        "_uuid": "787a809e65b2288e06fab8e97b3c6efb0d2b3ffc",
        "trusted": true
      },
      "cell_type": "code",
      "source": "dataset.data.shape # feature matrix shape",
      "execution_count": null,
      "outputs": []
    },
    {
      "metadata": {
        "_cell_guid": "dfc23cb6-8640-478a-8725-57696207a588",
        "_uuid": "f0f594aa1044513a2a7a8908ebe3634d1af73810",
        "scrolled": true,
        "trusted": true
      },
      "cell_type": "code",
      "source": "dataset.target.shape # target vector shape",
      "execution_count": null,
      "outputs": []
    },
    {
      "metadata": {
        "_cell_guid": "f7d64c8c-33de-48e4-9d3c-00ebfa4a382f",
        "_uuid": "df7ddebd32ce1729c55aaddfa6c534b2879e6563"
      },
      "cell_type": "markdown",
      "source": "## Linear Regression Model"
    },
    {
      "metadata": {
        "_cell_guid": "012b7944-2ea4-4b8d-88be-3ce076418e59",
        "_uuid": "0c8901d8841cd0ebc816d4e47d68a95d1bcfe900",
        "collapsed": true
      },
      "cell_type": "markdown",
      "source": "Linear Regression assumes the following model: \n \n $y = X\\beta + c + \\epsilon$\n \n X data <br />\n $\\beta$ coefficients <br />\n c intercept <br />\n $\\epsilon$ error, cannot explained by model <br />\n y target <br />"
    },
    {
      "metadata": {},
      "cell_type": "markdown",
      "source": "Now that we have our features and target, the next step is to split this data into training and test sets. We'll do this by using Scikit-Learn's built-in train_test_split() method. The above script splits 80% of the data to training set while 20% of the data to test set. The test_size variable is where we actually specify the proportion of test set:"
    },
    {
      "metadata": {
        "_cell_guid": "e0bf0b4b-4b93-491b-b10c-5f1c3cb2fd9c",
        "_uuid": "f6f93a841fbc09e05a69ee1bc9efaaaa9c8ac889",
        "trusted": true
      },
      "cell_type": "code",
      "source": "from sklearn.model_selection import train_test_split\nX_train, X_test, y_train, y_test = train_test_split(dataset.data, dataset.target, test_size=0.2)",
      "execution_count": null,
      "outputs": []
    },
    {
      "metadata": {
        "_cell_guid": "a4a49994-7434-472c-a194-25dc21d33c94",
        "_uuid": "87798a852b2a743c34f20c1b5a8382a336522af8",
        "collapsed": true,
        "scrolled": true
      },
      "cell_type": "markdown",
      "source": "### Train algorithm (Scikit-learn 4-Step Modeling Pattern)\n\nWe have split our data into training and testing sets, and now is finally the time to train our algorithm.\n\n**Step 1.** Import the model you want to use\nIn scikit-learn, all machine learning models are implemented as Python classes"
    },
    {
      "metadata": {
        "_cell_guid": "a4a49994-7434-472c-a194-25dc21d33c94",
        "_uuid": "87798a852b2a743c34f20c1b5a8382a336522af8",
        "trusted": true
      },
      "cell_type": "code",
      "source": "from sklearn.linear_model import LinearRegression",
      "execution_count": null,
      "outputs": []
    },
    {
      "metadata": {},
      "cell_type": "markdown",
      "source": "**Step 2.** Make an instance of the Model and define parameters (optional)"
    },
    {
      "metadata": {
        "trusted": true
      },
      "cell_type": "code",
      "source": "# all parameters set t default\nmodel = LinearRegression()",
      "execution_count": null,
      "outputs": []
    },
    {
      "metadata": {},
      "cell_type": "markdown",
      "source": "**Step 3.** Training the model on the data, storing the information learned from the data.\n\nThe model is learning the relationship between features (x_train) and labels (y_train)."
    },
    {
      "metadata": {
        "_cell_guid": "a4a49994-7434-472c-a194-25dc21d33c94",
        "_uuid": "87798a852b2a743c34f20c1b5a8382a336522af8",
        "scrolled": true,
        "trusted": true
      },
      "cell_type": "code",
      "source": "model.fit(X_train, y_train)",
      "execution_count": null,
      "outputs": []
    },
    {
      "metadata": {},
      "cell_type": "markdown",
      "source": "With Scikit-Learn it is extremely straight forward to implement linear regression models, as all you really need to do is import the LinearRegression class, instantiate it, and call the fit() method along with our training data.\n\nIn the theory section we said that linear regression model basically finds the best value for the intercept and slope, which results in a line that best fits the data. To see the value of the intercept and slope calculated by the linear regression algorithm for our dataset, execute the following code:"
    },
    {
      "metadata": {},
      "cell_type": "markdown",
      "source": "#### model coefficients $\\beta$\nEstimated coefficients for the linear regression problem. This is a 1D array of length n_features."
    },
    {
      "metadata": {
        "trusted": true
      },
      "cell_type": "code",
      "source": "model.coef_",
      "execution_count": null,
      "outputs": []
    },
    {
      "metadata": {},
      "cell_type": "markdown",
      "source": "#### model intersept\nIndependent term c in the linear model."
    },
    {
      "metadata": {
        "trusted": true
      },
      "cell_type": "code",
      "source": "model.intercept_",
      "execution_count": null,
      "outputs": []
    },
    {
      "metadata": {
        "_cell_guid": "7a92774d-c95d-4bc7-a0e7-834c871ca663",
        "_uuid": "575058e2c5a314b33b4c5fe66efb648e57cf2b12"
      },
      "cell_type": "markdown",
      "source": "**Step 4.** Predict labels for new data (new images)\n\nUses the information the model learned during the model training process\n\nNow that we have trained our algorithm, it's time to make some predictions. To do so, we will use our test data and see how accurately our algorithm predicts the percentage score. The model uses the information learned during the model training process. To make predictions on the test data, execute the following script:"
    },
    {
      "metadata": {
        "_cell_guid": "8fc90200-e494-4819-8935-44e43c197e75",
        "_uuid": "e16b826dcadb8118155af8137287968609a78d0a",
        "trusted": true
      },
      "cell_type": "code",
      "source": "model.predict(X_test) # Predict unkown data",
      "execution_count": null,
      "outputs": []
    },
    {
      "metadata": {
        "_cell_guid": "c3a95fb4-029f-44e0-9878-86d91f4f528d",
        "_uuid": "811f681e24706c20b6b773b073a8c14e3311b357"
      },
      "cell_type": "markdown",
      "source": "The y_pred is a numpy array that contains all the predicted values for the input values in the X_test series.\nTo better understand why the prediction and actual are different , you can plot it in the following way:"
    },
    {
      "metadata": {
        "_cell_guid": "92c94de4-03a3-4392-a5df-438d4bb1669e",
        "_uuid": "8729a48709eecce1e76a9dbe6a7ea7d5ee69a68e",
        "trusted": true
      },
      "cell_type": "code",
      "source": "# plot prediction and actual data\ny_pred = model.predict(X_test) \nplt.plot(y_test, y_pred, '.')\n\n# plot a line, in case of a perfect predict all dots would fall on this line\nx = np.linspace(0, 330, 100)\ny = x\nplt.plot(x, y)\nplt.show()",
      "execution_count": null,
      "outputs": []
    }
  ],
  "metadata": {
    "kernelspec": {
      "name": "python3",
      "display_name": "Python 3",
      "language": "python"
    },
    "language_info": {
      "mimetype": "text/x-python",
      "nbconvert_exporter": "python",
      "name": "python",
      "file_extension": ".py",
      "version": "3.5.4",
      "pygments_lexer": "ipython3",
      "codemirror_mode": {
        "version": 3,
        "name": "ipython"
      }
    }
  },
  "nbformat": 4,
  "nbformat_minor": 1
}