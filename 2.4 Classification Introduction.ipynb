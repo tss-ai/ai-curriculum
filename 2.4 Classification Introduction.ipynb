{
  "cells": [
    {
      "metadata": {},
      "cell_type": "markdown",
      "source": "# Classification"
    },
    {
      "metadata": {},
      "cell_type": "markdown",
      "source": "### The Dataset - Fisher's Irises\n\nWe are going to use the <b>`iris`</b> dataset which comes with `sklearn`.  It's fairly small as we'll see shortly."
    },
    {
      "metadata": {},
      "cell_type": "markdown",
      "source": "### Labels (species names/classes):\n<img border=\"0\" alt=\"iris species\" src=\"https://az712634.vo.msecnd.net/notebooks/python_course/v1/irises.png\" width=\"500\" height=\"500\">"
    },
    {
      "metadata": {},
      "cell_type": "markdown",
      "source": "### Question\ne.g. What type of flower is this (pictured below) closest to of the three given classes?\n\n<img border=\"0\" alt=\"iris species\" src=\"https://az712634.vo.msecnd.net/notebooks/python_course/v1/iris-setosa.jpg\" width=\"200\">"
    },
    {
      "metadata": {},
      "cell_type": "markdown",
      "source": "### Get to know the data - explore\n* Features (columns/measurements) are depicted in this diagram:\n<img border=\"0\" alt=\"iris data features\" src=\"https://az712634.vo.msecnd.net/notebooks/python_course/v1/iris_petal_sepal.png\" width=\"200\" height=\"200\">\n\nNext, let's explore:\n* Shape\n* The actual data\n* Summaries"
    },
    {
      "metadata": {
        "trusted": true
      },
      "cell_type": "code",
      "source": "# Familiar imports\nimport pandas as pd\nimport numpy as np\nimport matplotlib.pyplot as plt\n%matplotlib inline",
      "execution_count": null,
      "outputs": []
    },
    {
      "metadata": {
        "trusted": true
      },
      "cell_type": "code",
      "source": "from sklearn import datasets\n\n# Other datasets in sklearn have similar \"load\" functions\ndataset = datasets.load_iris()\n\n# put dataset into a pandas dataframe\ndf = pd.DataFrame(dataset.data, columns = dataset.feature_names)\ndf['target'] = pd.DataFrame(dataset.target)\n\ndf.head()",
      "execution_count": null,
      "outputs": []
    },
    {
      "metadata": {},
      "cell_type": "markdown",
      "source": "<b>Shape and representation<b>"
    },
    {
      "metadata": {
        "trusted": true
      },
      "cell_type": "code",
      "source": "df.info()",
      "execution_count": null,
      "outputs": []
    },
    {
      "metadata": {
        "trusted": true
      },
      "cell_type": "code",
      "source": "df.describe()",
      "execution_count": null,
      "outputs": []
    },
    {
      "metadata": {},
      "cell_type": "markdown",
      "source": "#### Leave one value out from training set - that will be test later on"
    },
    {
      "metadata": {
        "trusted": true
      },
      "cell_type": "code",
      "source": "# Sperate train and test data\nfrom sklearn.model_selection import train_test_split\n\nX_train, X_test, y_train, y_test = train_test_split(dataset.data, dataset.target, test_size=0.2)",
      "execution_count": null,
      "outputs": []
    },
    {
      "metadata": {},
      "cell_type": "markdown",
      "source": "#### Train Classification Model\n\nAgain, follow the 4-step modelling pattern.\n\n**Step 1.** Import the model you want to use"
    },
    {
      "metadata": {
        "trusted": true
      },
      "cell_type": "code",
      "source": "from sklearn.linear_model import LogisticRegression",
      "execution_count": null,
      "outputs": []
    },
    {
      "metadata": {},
      "cell_type": "markdown",
      "source": "**Step 2.** Make an instance of the Model and define parameters (optional)"
    },
    {
      "metadata": {
        "trusted": true
      },
      "cell_type": "code",
      "source": "# Our model - a multiclass regression\nmodel = LogisticRegression()",
      "execution_count": null,
      "outputs": []
    },
    {
      "metadata": {},
      "cell_type": "markdown",
      "source": "**Step 3.** Training the model on the Iris dataset, storing the information learned from the data"
    },
    {
      "metadata": {
        "trusted": true
      },
      "cell_type": "code",
      "source": "model.fit(X_train, y_train)",
      "execution_count": null,
      "outputs": []
    },
    {
      "metadata": {},
      "cell_type": "markdown",
      "source": "**Step 4.** Predict labels for test data"
    },
    {
      "metadata": {
        "trusted": true
      },
      "cell_type": "code",
      "source": "y_predict = model.predict(X_test)",
      "execution_count": null,
      "outputs": []
    },
    {
      "metadata": {},
      "cell_type": "markdown",
      "source": "### Evaluating the Model's Performance\nWhile there are other ways of measuring model performance (precision, recall, F1 Score, ROC Curve, etc), we are going to keep this simple and use accuracy as our metric. \nTo do this are going to see how the model performs on the new data (test set)\n\n#### Accuracy\nAccuracy is defined as: (fraction of correct predictions): correct predictions / total number of data points"
    },
    {
      "metadata": {
        "trusted": true
      },
      "cell_type": "code",
      "source": "score = model.score(X_test, y_test)\nprint(score)",
      "execution_count": null,
      "outputs": []
    },
    {
      "metadata": {
        "trusted": true
      },
      "cell_type": "code",
      "source": "print('Predicted class %s, real class %s' % (\n        y_predict[1], y_test[1]))",
      "execution_count": null,
      "outputs": []
    },
    {
      "metadata": {
        "trusted": true
      },
      "cell_type": "code",
      "source": "print('Probabilities of membership in each class: %s' % \n      model.predict_proba(X_test))",
      "execution_count": null,
      "outputs": []
    },
    {
      "metadata": {},
      "cell_type": "markdown",
      "source": "## Visualize\nThere are many ways to visualize.\n\n#### Boxplots\nBoxplots are a simple form of visualization"
    },
    {
      "metadata": {
        "trusted": true
      },
      "cell_type": "code",
      "source": "# A bit of rearrangement for plotting\ndf2 = pd.DataFrame()\nfor i in range(0,3):\n    df2[i] = df.loc[(df['target'] == i), 'sepal length (cm)'].dropna().values",
      "execution_count": null,
      "outputs": []
    },
    {
      "metadata": {
        "trusted": true
      },
      "cell_type": "code",
      "source": "# Convert back to an array\ndata = np.array(df2)\n\n# Plot a boxplot\nplt.boxplot(data)\nplt.title('sepal length (cm)')",
      "execution_count": null,
      "outputs": []
    },
    {
      "metadata": {},
      "cell_type": "markdown",
      "source": "#### Confusion Matrix\nA confusion matrix is a table that is often used to describe the performance of a classification model (or “classifier”) on a set of test data for which the true values are known. In this section, I am just showing two python packages (Seaborn and Matplotlib) for making confusion matrices more understandable and visually appealing."
    },
    {
      "metadata": {
        "trusted": true
      },
      "cell_type": "code",
      "source": "import matplotlib.pyplot as plt\nimport seaborn as sns\nfrom sklearn import metrics",
      "execution_count": null,
      "outputs": []
    },
    {
      "metadata": {
        "trusted": true
      },
      "cell_type": "code",
      "source": "cm = metrics.confusion_matrix(y_test, y_predict)\nprint(cm)",
      "execution_count": null,
      "outputs": []
    },
    {
      "metadata": {
        "trusted": true
      },
      "cell_type": "code",
      "source": "plt.figure(figsize=(3,3))\nsns.heatmap(cm, annot=True, fmt=\".3f\", linewidths=.5, square = True, cmap = 'Blues_r');\nplt.ylabel('Actual label');\nplt.xlabel('Predicted label');\nall_sample_title = 'Accuracy Score: {0}'.format(score)\nplt.title(all_sample_title, size = 15);",
      "execution_count": null,
      "outputs": []
    }
  ],
  "metadata": {
    "kernelspec": {
      "name": "python3",
      "display_name": "Python 3",
      "language": "python"
    },
    "language_info": {
      "mimetype": "text/x-python",
      "nbconvert_exporter": "python",
      "name": "python",
      "pygments_lexer": "ipython3",
      "version": "3.5.4",
      "file_extension": ".py",
      "codemirror_mode": {
        "version": 3,
        "name": "ipython"
      }
    }
  },
  "nbformat": 4,
  "nbformat_minor": 1
}